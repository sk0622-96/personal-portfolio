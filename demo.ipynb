{
 "cells": [
  {
   "cell_type": "code",
   "execution_count": 4,
   "id": "2b8584cc-3207-4eb0-84eb-e5e3d4410d38",
   "metadata": {},
   "outputs": [],
   "source": [
    "import numpy as np\n",
    "from lightfm.datasets import fetch_movielens\n",
    "from lightfm import LightFM"
   ]
  },
  {
   "cell_type": "code",
   "execution_count": 7,
   "id": "5f235041-ba24-4f45-be85-39f33483fbdf",
   "metadata": {},
   "outputs": [
    {
     "name": "stdout",
     "output_type": "stream",
     "text": [
      "<943x1682 sparse matrix of type '<class 'numpy.int32'>'\n",
      "\twith 49906 stored elements in COOrdinate format>\n",
      "<943x1682 sparse matrix of type '<class 'numpy.int32'>'\n",
      "\twith 5469 stored elements in COOrdinate format>\n"
     ]
    }
   ],
   "source": [
    "#fetch data and format it\n",
    "data = fetch_movielens(min_rating = 4.0)\n",
    "\n",
    "#print training and testing data\n",
    "\n",
    "print(repr(data['train']))\n",
    "print(repr(data['test']))"
   ]
  },
  {
   "cell_type": "code",
   "execution_count": 8,
   "id": "c31210cb-84f0-446c-bf78-26fbf4324834",
   "metadata": {},
   "outputs": [
    {
     "data": {
      "text/plain": [
       "<lightfm.lightfm.LightFM at 0x12fb28a60>"
      ]
     },
     "execution_count": 8,
     "metadata": {},
     "output_type": "execute_result"
    }
   ],
   "source": [
    "#create model\n",
    "model = LightFM(loss= 'warp')\n",
    "\n",
    "#train model\n",
    "model.fit(data['train'], epochs= 30, num_threads = 2)"
   ]
  },
  {
   "cell_type": "code",
   "execution_count": 20,
   "id": "1814367e-8a43-4624-91a5-0764f9ce0e96",
   "metadata": {},
   "outputs": [
    {
     "name": "stdout",
     "output_type": "stream",
     "text": [
      "User 3\n",
      "      Known positives:\n",
      "Recommended:\n",
      "Recommended:\n",
      "Recommended:\n",
      " S\n",
      " G\n",
      " D\n",
      "User 25\n",
      "      Known positives:\n",
      "Recommended:\n",
      "Recommended:\n",
      "Recommended:\n",
      " E\n",
      " F\n",
      " C\n",
      "User 450\n",
      "      Known positives:\n",
      "Recommended:\n",
      "Recommended:\n",
      "Recommended:\n",
      " D\n",
      " S\n",
      " V\n"
     ]
    }
   ],
   "source": [
    "def sample_recomendation(model, data, user_ids):\n",
    "    \n",
    "    #number of users and movies in training data\n",
    "    n_users, n_items = data['train'].shape\n",
    "    \n",
    "    #generate recommendations for each user we input\n",
    "    for user_id in user_ids:\n",
    "\n",
    "        #movies they already like\n",
    "        known_positives = data['item_labels'][data['train'].tocsr()[user_id]. indices]\n",
    "\n",
    "        #movies our model predicts they will like\n",
    "        scores = model.predict(user_id, np.arange(n_items))\n",
    "        \n",
    "        #rank them in order of most liked to least\n",
    "        top_items = data['item_labels'][np.argsort(-scores)]\n",
    "\n",
    "\n",
    "        #print out other results\n",
    "        print(\"User %s\" % user_id)\n",
    "        print(\"      Known positives:\")\n",
    "        \n",
    "        for x in known_positives[:3]:\n",
    "            print(\"Recommended:\")\n",
    "        \n",
    "        for x in top_items[:3]:\n",
    "            print(\" %s\" % x)\n",
    "\n",
    "sample_recomendation(model, data, [3, 25, 450])"
   ]
  },
  {
   "cell_type": "code",
   "execution_count": null,
   "id": "d4662ac3-4bd7-4286-ae97-96473d1d944a",
   "metadata": {},
   "outputs": [],
   "source": [
    "\n",
    "\n"
   ]
  }
 ],
 "metadata": {
  "kernelspec": {
   "display_name": "Python 3 (ipykernel)",
   "language": "python",
   "name": "python3"
  },
  "language_info": {
   "codemirror_mode": {
    "name": "ipython",
    "version": 3
   },
   "file_extension": ".py",
   "mimetype": "text/x-python",
   "name": "python",
   "nbconvert_exporter": "python",
   "pygments_lexer": "ipython3",
   "version": "3.10.14"
  }
 },
 "nbformat": 4,
 "nbformat_minor": 5
}
